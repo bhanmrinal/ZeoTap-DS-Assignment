{
 "cells": [
  {
   "cell_type": "markdown",
   "metadata": {},
   "source": [
    "## ZeoTap - Data Science Assignment\n",
    "### By: Mrinal Bhan (bhanmrinal@gmail.com)"
   ]
  },
  {
   "cell_type": "code",
   "execution_count": null,
   "metadata": {},
   "outputs": [],
   "source": [
    "!pip install plotly"
   ]
  },
  {
   "cell_type": "code",
   "execution_count": 1,
   "metadata": {},
   "outputs": [],
   "source": [
    "import pandas as pd\n",
    "import numpy as np\n",
    "import matplotlib.pyplot as plt\n",
    "import seaborn as sns\n",
    "from sklearn.preprocessing import StandardScaler, MinMaxScaler\n",
    "from sklearn.cluster import KMeans, DBSCAN\n",
    "from sklearn.metrics import davies_bouldin_score, silhouette_score\n",
    "from sklearn.metrics.pairwise import cosine_similarity\n",
    "from datetime import datetime\n",
    "import plotly.express as px\n",
    "import plotly.graph_objects as go\n",
    "from plotly.subplots import make_subplots\n",
    "import warnings\n",
    "warnings.filterwarnings('ignore')\n",
    "\n",
    "# Set display options and styling\n",
    "pd.set_option('display.max_columns', None)\n",
    "pd.set_option('display.float_format', lambda x: '%.3f' % x)"
   ]
  },
  {
   "cell_type": "markdown",
   "metadata": {},
   "source": [
    "### Files Description:\n",
    "1. Customers.csv\n",
    "\n",
    "-> CustomerID: Unique identifier for each customer.\n",
    "\n",
    "-> CustomerName: Name of the customer.\n",
    "\n",
    "-> Region: Continent where the customer resides.\n",
    "\n",
    "-> SignupDate: Date when the customer signed up.\n",
    "\n",
    "\n",
    "2. Products.csv\n",
    "\n",
    "-> ProductID: Unique identifier for each product.\n",
    "\n",
    "-> ProductName: Name of the product.\n",
    "\n",
    "-> Category: Product category.\n",
    "\n",
    "-> Price: Product price in USD.\n",
    "\n",
    "3. Transactions.csv\n",
    "\n",
    "-> TransactionID: Unique identifier for each transaction.\n",
    "\n",
    "-> CustomerID: ID of the customer who made the transaction.\n",
    "\n",
    "-> ProductID: ID of the product sold.\n",
    "\n",
    "-> TransactionDate: Date of the transaction.\n",
    "\n",
    "-> Quantity: Quantity of the product purchased.\n",
    "\n",
    "-> TotalValue: Total value of the transaction.\n",
    "\n",
    "-> Price: Price of the product sold."
   ]
  },
  {
   "cell_type": "code",
   "execution_count": 2,
   "metadata": {},
   "outputs": [],
   "source": [
    "def load_data(file_path, expected_columns=None):\n",
    "    \"\"\"\n",
    "    Safely load CSV files with error handling and validation\n",
    "    \"\"\"\n",
    "    try:\n",
    "        df = pd.read_csv(file_path)\n",
    "        if expected_columns and not all(col in df.columns for col in expected_columns):\n",
    "            raise ValueError(f\"Missing expected columns in {file_path}\")\n",
    "        return df\n",
    "    except FileNotFoundError:\n",
    "        print(f\"Error: File not found at {file_path}\")\n",
    "        return None\n",
    "    except Exception as e:\n",
    "        print(f\"Error loading {file_path}: {str(e)}\")\n",
    "        return None\n",
    "\n",
    "# Load datasets with validation\n",
    "try:\n",
    "    customers_df = load_data('Customers.csv', \n",
    "                           ['CustomerID', 'CustomerName', 'Region', 'SignupDate'])\n",
    "    products_df = load_data('Products.csv',\n",
    "                          ['ProductID', 'ProductName', 'Category', 'Price'])\n",
    "    transactions_df = load_data('Transactions.csv',\n",
    "                              ['TransactionID', 'CustomerID', 'ProductID', \n",
    "                               'TransactionDate', 'Quantity', 'TotalValue', 'Price'])\n",
    "\n",
    "    # Validate data loading\n",
    "    if not all([isinstance(df, pd.DataFrame) for df in [customers_df, products_df, transactions_df]]):\n",
    "        raise ValueError(\"Data loading failed\")\n",
    "\n",
    "except Exception as e:\n",
    "    print(f\"Error in data loading: {str(e)}\")\n",
    "    raise"
   ]
  },
  {
   "cell_type": "code",
   "execution_count": 3,
   "metadata": {},
   "outputs": [
    {
     "name": "stdout",
     "output_type": "stream",
     "text": [
      "Customers Dataset:\n",
      "  CustomerID        CustomerName         Region  SignupDate\n",
      "0      C0001    Lawrence Carroll  South America  2022-07-10\n",
      "1      C0002      Elizabeth Lutz           Asia  2022-02-13\n",
      "2      C0003      Michael Rivera  South America  2024-03-07\n",
      "3      C0004  Kathleen Rodriguez  South America  2022-10-09\n",
      "4      C0005         Laura Weber           Asia  2022-08-15\n"
     ]
    }
   ],
   "source": [
    "# Display first few rows of each dataset\n",
    "print(\"Customers Dataset:\")\n",
    "print(customers_df.head())"
   ]
  },
  {
   "cell_type": "code",
   "execution_count": 4,
   "metadata": {},
   "outputs": [
    {
     "name": "stdout",
     "output_type": "stream",
     "text": [
      "\n",
      "Products Dataset:\n",
      "  ProductID              ProductName     Category   Price\n",
      "0      P001     ActiveWear Biography        Books 169.300\n",
      "1      P002    ActiveWear Smartwatch  Electronics 346.300\n",
      "2      P003  ComfortLiving Biography        Books  44.120\n",
      "3      P004            BookWorld Rug   Home Decor  95.690\n",
      "4      P005          TechPro T-Shirt     Clothing 429.310\n"
     ]
    }
   ],
   "source": [
    "print(\"\\nProducts Dataset:\")\n",
    "print(products_df.head())"
   ]
  },
  {
   "cell_type": "code",
   "execution_count": 5,
   "metadata": {},
   "outputs": [
    {
     "name": "stdout",
     "output_type": "stream",
     "text": [
      "\n",
      "Transactions Dataset:\n",
      "  TransactionID CustomerID ProductID      TransactionDate  Quantity  \\\n",
      "0        T00001      C0199      P067  2024-08-25 12:38:23         1   \n",
      "1        T00112      C0146      P067  2024-05-27 22:23:54         1   \n",
      "2        T00166      C0127      P067  2024-04-25 07:38:55         1   \n",
      "3        T00272      C0087      P067  2024-03-26 22:55:37         2   \n",
      "4        T00363      C0070      P067  2024-03-21 15:10:10         3   \n",
      "\n",
      "   TotalValue   Price  \n",
      "0     300.680 300.680  \n",
      "1     300.680 300.680  \n",
      "2     300.680 300.680  \n",
      "3     601.360 300.680  \n",
      "4     902.040 300.680  \n"
     ]
    }
   ],
   "source": [
    "print(\"\\nTransactions Dataset:\")\n",
    "print(transactions_df.head())"
   ]
  },
  {
   "cell_type": "markdown",
   "metadata": {},
   "source": [
    "# Task 1: Exploratory Data Analysis (EDA)\n"
   ]
  },
  {
   "cell_type": "code",
   "execution_count": 6,
   "metadata": {},
   "outputs": [],
   "source": [
    "def preprocess_data(customers_df, products_df, transactions_df):\n",
    "    \"\"\"\n",
    "    Clean and preprocess the datasets\n",
    "    \"\"\"\n",
    "    # Convert date columns to datetime\n",
    "    customers_df['SignupDate'] = pd.to_datetime(customers_df['SignupDate'])\n",
    "    transactions_df['TransactionDate'] = pd.to_datetime(transactions_df['TransactionDate'])\n",
    "    \n",
    "    # Remove duplicates\n",
    "    customers_df = customers_df.drop_duplicates()\n",
    "    products_df = products_df.drop_duplicates()\n",
    "    transactions_df = transactions_df.drop_duplicates()\n",
    "    \n",
    "    # Handle missing values\n",
    "    for df in [customers_df, products_df, transactions_df]:\n",
    "        numeric_columns = df.select_dtypes(include=[np.number]).columns\n",
    "        df[numeric_columns] = df[numeric_columns].fillna(df[numeric_columns].mean())\n",
    "        categorical_columns = df.select_dtypes(include=['object']).columns\n",
    "        df[categorical_columns] = df[categorical_columns].fillna('Unknown')\n",
    "    \n",
    "    # Add derived features\n",
    "    transactions_df['Year'] = transactions_df['TransactionDate'].dt.year\n",
    "    transactions_df['Month'] = transactions_df['TransactionDate'].dt.month\n",
    "    customers_df['CustomerAge'] = (datetime.now() - customers_df['SignupDate']).dt.days\n",
    "    \n",
    "    return customers_df, products_df, transactions_df\n",
    "\n",
    "# Preprocess the data\n",
    "customers_df, products_df, transactions_df = preprocess_data(customers_df, products_df, transactions_df)"
   ]
  },
  {
   "cell_type": "code",
   "execution_count": 7,
   "metadata": {},
   "outputs": [
    {
     "name": "stdout",
     "output_type": "stream",
     "text": [
      "Customers Dataset Info:\n",
      "<class 'pandas.core.frame.DataFrame'>\n",
      "RangeIndex: 200 entries, 0 to 199\n",
      "Data columns (total 5 columns):\n",
      " #   Column        Non-Null Count  Dtype         \n",
      "---  ------        --------------  -----         \n",
      " 0   CustomerID    200 non-null    object        \n",
      " 1   CustomerName  200 non-null    object        \n",
      " 2   Region        200 non-null    object        \n",
      " 3   SignupDate    200 non-null    datetime64[ns]\n",
      " 4   CustomerAge   200 non-null    int64         \n",
      "dtypes: datetime64[ns](1), int64(1), object(3)\n",
      "memory usage: 7.9+ KB\n",
      "None\n"
     ]
    }
   ],
   "source": [
    "# Basic information about datasets\n",
    "print(\"Customers Dataset Info:\")\n",
    "print(customers_df.info())\n"
   ]
  },
  {
   "cell_type": "code",
   "execution_count": 8,
   "metadata": {},
   "outputs": [
    {
     "name": "stdout",
     "output_type": "stream",
     "text": [
      "\n",
      "Products Dataset Info:\n",
      "<class 'pandas.core.frame.DataFrame'>\n",
      "RangeIndex: 100 entries, 0 to 99\n",
      "Data columns (total 4 columns):\n",
      " #   Column       Non-Null Count  Dtype  \n",
      "---  ------       --------------  -----  \n",
      " 0   ProductID    100 non-null    object \n",
      " 1   ProductName  100 non-null    object \n",
      " 2   Category     100 non-null    object \n",
      " 3   Price        100 non-null    float64\n",
      "dtypes: float64(1), object(3)\n",
      "memory usage: 3.3+ KB\n",
      "None\n"
     ]
    }
   ],
   "source": [
    "print(\"\\nProducts Dataset Info:\")\n",
    "print(products_df.info())"
   ]
  },
  {
   "cell_type": "code",
   "execution_count": 9,
   "metadata": {},
   "outputs": [
    {
     "name": "stdout",
     "output_type": "stream",
     "text": [
      "\n",
      "Transactions Dataset Info:\n",
      "<class 'pandas.core.frame.DataFrame'>\n",
      "RangeIndex: 1000 entries, 0 to 999\n",
      "Data columns (total 9 columns):\n",
      " #   Column           Non-Null Count  Dtype         \n",
      "---  ------           --------------  -----         \n",
      " 0   TransactionID    1000 non-null   object        \n",
      " 1   CustomerID       1000 non-null   object        \n",
      " 2   ProductID        1000 non-null   object        \n",
      " 3   TransactionDate  1000 non-null   datetime64[ns]\n",
      " 4   Quantity         1000 non-null   int64         \n",
      " 5   TotalValue       1000 non-null   float64       \n",
      " 6   Price            1000 non-null   float64       \n",
      " 7   Year             1000 non-null   int32         \n",
      " 8   Month            1000 non-null   int32         \n",
      "dtypes: datetime64[ns](1), float64(2), int32(2), int64(1), object(3)\n",
      "memory usage: 62.6+ KB\n",
      "None\n"
     ]
    }
   ],
   "source": [
    "print(\"\\nTransactions Dataset Info:\")\n",
    "print(transactions_df.info())"
   ]
  },
  {
   "cell_type": "code",
   "execution_count": 10,
   "metadata": {},
   "outputs": [
    {
     "name": "stdout",
     "output_type": "stream",
     "text": [
      "\n",
      "Missing Values:\n",
      "Customers: CustomerID      0\n",
      "CustomerName    0\n",
      "Region          0\n",
      "SignupDate      0\n",
      "CustomerAge     0\n",
      "dtype: int64\n",
      "Products: ProductID      0\n",
      "ProductName    0\n",
      "Category       0\n",
      "Price          0\n",
      "dtype: int64\n",
      "Transactions: TransactionID      0\n",
      "CustomerID         0\n",
      "ProductID          0\n",
      "TransactionDate    0\n",
      "Quantity           0\n",
      "TotalValue         0\n",
      "Price              0\n",
      "Year               0\n",
      "Month              0\n",
      "dtype: int64\n"
     ]
    }
   ],
   "source": [
    "# Check for missing values\n",
    "print(\"\\nMissing Values:\")\n",
    "print(\"Customers:\", customers_df.isnull().sum())\n",
    "print(\"Products:\", products_df.isnull().sum())\n",
    "print(\"Transactions:\", transactions_df.isnull().sum())"
   ]
  },
  {
   "cell_type": "code",
   "execution_count": 11,
   "metadata": {},
   "outputs": [
    {
     "name": "stdout",
     "output_type": "stream",
     "text": [
      "Customer Statistics:\n",
      "                SignupDate  CustomerAge\n",
      "count                  200      200.000\n",
      "mean   2023-07-19 08:31:12      557.645\n",
      "min    2022-01-22 00:00:00       30.000\n",
      "25%    2022-09-26 12:00:00      289.500\n",
      "50%    2023-08-31 12:00:00      514.500\n",
      "75%    2024-04-12 12:00:00      853.500\n",
      "max    2024-12-28 00:00:00     1101.000\n",
      "std                    NaN      325.527\n",
      "\n",
      "Product Statistics:\n",
      "        Price\n",
      "count 100.000\n",
      "mean  267.552\n",
      "std   143.219\n",
      "min    16.080\n",
      "25%   147.767\n",
      "50%   292.875\n",
      "75%   397.090\n",
      "max   497.760\n",
      "\n",
      "Transaction Statistics:\n",
      "                     TransactionDate  Quantity  TotalValue    Price     Year  \\\n",
      "count                           1000  1000.000    1000.000 1000.000 1000.000   \n",
      "mean   2024-06-23 15:33:02.768999936     2.537     689.996  272.554 2023.996   \n",
      "min              2023-12-30 15:29:12     1.000      16.080   16.080 2023.000   \n",
      "25%       2024-03-25 22:05:34.500000     2.000     295.295  147.950 2024.000   \n",
      "50%       2024-06-26 17:21:52.500000     3.000     588.880  299.930 2024.000   \n",
      "75%              2024-09-19 14:19:57     4.000    1011.660  404.400 2024.000   \n",
      "max              2024-12-28 11:00:00     4.000    1991.040  497.760 2024.000   \n",
      "std                              NaN     1.118     493.144  140.736    0.063   \n",
      "\n",
      "         Month  \n",
      "count 1000.000  \n",
      "mean     6.288  \n",
      "min      1.000  \n",
      "25%      3.000  \n",
      "50%      6.000  \n",
      "75%      9.000  \n",
      "max     12.000  \n",
      "std      3.438  \n"
     ]
    }
   ],
   "source": [
    "# Basic statistics\n",
    "print(\"Customer Statistics:\")\n",
    "print(customers_df.describe())\n",
    "print(\"\\nProduct Statistics:\")\n",
    "print(products_df.describe())\n",
    "print(\"\\nTransaction Statistics:\")\n",
    "print(transactions_df.describe())\n",
    "\n",
    "# Convert date columns to datetime\n",
    "customers_df['SignupDate'] = pd.to_datetime(customers_df['SignupDate'])\n",
    "transactions_df['TransactionDate'] = pd.to_datetime(transactions_df['TransactionDate'])"
   ]
  },
  {
   "cell_type": "code",
   "execution_count": 12,
   "metadata": {},
   "outputs": [
    {
     "data": {
      "image/png": "[encoded data removed]",
      "text/plain": [
       "<Figure size 1500x1000 with 4 Axes>"
      ]
     },
     "metadata": {},
     "output_type": "display_data"
    },
    {
     "data": {
      "application/vnd.plotly.v1+json": {
       "config": {
        "plotlyServerURL": "https://plot.ly"
       },
       "data": [
        {
         "name": "Monthly Sales",
         "type": "scatter",
         "x": [
          0,
          1,
          2,
          3,
          4,
          5,
          6,
          7,
          8,
          9,
          10,
          11,
          12
         ],
         "xaxis": "x",
         "y": [
          3769.52,
          66376.39,
          51459.270000000004,
          47828.729999999996,
          57519.06,
          64527.74,
          48771.18,
          71366.39,
          63436.74,
          70603.75,
          47063.22,
          38224.37,
          59049.2
         ],
         "yaxis": "y"
        },
        {
         "name": "Purchase Frequency",
         "type": "histogram",
         "x": [
          11,
          11,
          10,
          10,
          10,
          10,
          9,
          9,
          9,
          9,
          9,
          8,
          8,
          8,
          8,
          8,
          8,
          8,
          8,
          8,
          8,
          8,
          8,
          8,
          8,
          8,
          8,
          8,
          8,
          8,
          8,
          7,
          7,
          7,
          7,
          7,
          7,
          7,
          7,
          7,
          7,
          7,
          7,
          7,
          7,
          7,
          7,
          7,
          7,
          6,
          6,
          6,
          6,
          6,
          6,
          6,
          6,
          6,
          6,
          6,
          6,
          6,
          6,
          6,
          6,
          6,
          6,
          6,
          6,
          6,
          6,
          6,
          6,
          6,
          5,
          5,
          5,
          5,
          5,
          5,
          5,
          5,
          5,
          5,
          5,
          5,
          5,
          5,
          5,
          5,
          5,
          5,
          5,
          5,
          5,
          5,
          5,
          5,
          5,
          5,
          5,
          5,
          5,
          5,
          5,
          5,
          5,
          5,
          5,
          5,
          5,
          5,
          5,
          5,
          5,
          5,
          4,
          4,
          4,
          4,
          4,
          4,
          4,
          4,
          4,
          4,
          4,
          4,
          4,
          4,
          4,
          4,
          4,
          4,
          4,
          4,
          4,
          4,
          4,
          4,
          4,
          4,
          4,
          4,
          4,
          4,
          4,
          3,
          3,
          3,
          3,
          3,
          3,
          3,
          3,
          3,
          3,
          3,
          3,
          3,
          3,
          3,
          3,
          3,
          3,
          3,
          3,
          3,
          3,
          3,
          3,
          3,
          3,
          3,
          3,
          3,
          3,
          3,
          2,
          2,
          2,
          2,
          2,
          2,
          2,
          2,
          2,
          1,
          1,
          1,
          1,
          1,
          1,
          1,
          1,
          1,
          1,
          1,
          1
         ],
         "xaxis": "x2",
         "yaxis": "y2"
        },
        {
         "name": "Category Sales",
         "type": "bar",
         "x": [
          "Books",
          "Clothing",
          "Electronics",
          "Home Decor"
         ],
         "xaxis": "x3",
         "y": [
          192147.47,
          166170.66,
          180783.5,
          150893.93
         ],
         "yaxis": "y3"
        },
        {
         "name": "Customer Value Distribution",
         "type": "box",
         "xaxis": "x4",
         "y": [
          3354.5200000000004,
          1862.74,
          2725.38,
          5354.88,
          2034.24,
          4227.57,
          2579.8199999999997,
          4271.61,
          896.5,
          1717.5500000000002,
          3730,
          5231.259999999999,
          6000.56,
          318.66,
          1157.48,
          3874.42,
          4753.82,
          4781.85,
          2185.8199999999997,
          922.41,
          5419.92,
          4655.07,
          5158.65,
          3627.02,
          1589.81,
          3549.05,
          2562.94,
          6819.57,
          1785.8700000000001,
          2549.6800000000003,
          2005.38,
          673,
          132.64,
          3073.2000000000003,
          2587.61,
          1877.96,
          4252.77,
          2696.85,
          4239.6,
          3969.3999999999996,
          6149.78,
          2402.49,
          1131.3200000000002,
          3230.1099999999997,
          6021.8,
          5627.83,
          2870.54,
          3850.9399999999996,
          2315.48,
          3068.83,
          5699.57,
          2488.01,
          5316.46,
          8040.389999999999,
          2857.6800000000003,
          3182.94,
          4536.4,
          396.34,
          7073.28,
          82.36,
          2138.26,
          1639.54,
          1378.1699999999998,
          4039.77,
          7663.7,
          3799.2799999999997,
          4090.84,
          5950.42,
          2878.69,
          3125.49,
          1400.83,
          2999.59,
          2060.54,
          3055.2200000000003,
          5848.97,
          2333.06,
          837.3,
          995.52,
          4251.5599999999995,
          1007.52,
          3542.48,
          7572.91,
          642.8,
          4441.1,
          2598.33,
          2754.68,
          6604.23,
          2135.38,
          2556.2200000000003,
          4138.16,
          3137.66,
          3015.95,
          5294.99,
          1166.97,
          1284.27,
          6072.92,
          137.54,
          3158.02,
          6715.72,
          5003.45,
          5550.99,
          6132.360000000001,
          2462.5499999999997,
          6579.1,
          4807.45,
          2939.3,
          3623.92,
          4848.54,
          5487.25,
          942.32,
          1973.02,
          1959.51,
          4812.1,
          5780.43,
          3137.18,
          2758.6800000000003,
          4028.2700000000004,
          3434.77,
          1191.61,
          2470.02,
          974.52,
          5072.55,
          1400.06,
          4264.33,
          2973.96,
          4565.57,
          3232.88,
          773.19,
          2339.61,
          601.36,
          1943.82,
          1851.2599999999998,
          2884.33,
          2679.28,
          3135.58,
          4298.99,
          3332.55,
          5610.25,
          3703.64,
          1888.1399999999999,
          10673.869999999999,
          2239.04,
          6044.63,
          1304.6799999999998,
          5771.27,
          2570.8,
          2948.44,
          5457.79,
          4404.78,
          580.34,
          223.96,
          3385.8599999999997,
          4744.79,
          3703.61,
          5377.83,
          7634.45,
          1876.1,
          3716.52,
          2072.41,
          2926.93,
          3141.83,
          4802.24,
          5775.28,
          3087.69,
          6708.1,
          2405.3500000000004,
          2300.42,
          5053.83,
          4533.32,
          4931.74,
          5145.35,
          2201.7,
          5808.04,
          2891.95,
          6210.53,
          2331.32,
          2509.81,
          2708.83,
          3652.83,
          3347.6000000000004,
          4980.7699999999995,
          3850.2200000000003,
          3393.1800000000003,
          3424.3199999999997,
          1761.6399999999999,
          4612.44,
          7111.320000000001,
          2643.21,
          2983.02,
          2997.9700000000003,
          2072.7200000000003,
          3009.2900000000004,
          3869.17,
          4036.27,
          4982.88,
          1928.65,
          931.83,
          1979.28,
          4758.6
         ],
         "yaxis": "y4"
        }
       ],
       "layout": {
        "height": 800,
        "template": {
         "data": {
          "bar": [
           {
            "error_x": {
             "color": "#2a3f5f"
            },
            "error_y": {
             "color": "#2a3f5f"
            },
            "marker": {
             "line": {
              "color": "#E5ECF6",
              "width": 0.5
             },
             "pattern": {
              "fillmode": "overlay",
              "size": 10,
              "solidity": 0.2
             }
            },
            "type": "bar"
           }
          ],
          "barpolar": [
           {
            "marker": {
             "line": {
              "color": "#E5ECF6",
              "width": 0.5
             },
             "pattern": {
              "fillmode": "overlay",
              "size": 10,
              "solidity": 0.2
             }
            },
            "type": "barpolar"
           }
          ],
          "carpet": [
           {
            "aaxis": {
             "endlinecolor": "#2a3f5f",
             "gridcolor": "white",
             "linecolor": "white",
             "minorgridcolor": "white",
             "startlinecolor": "#2a3f5f"
            },
            "baxis": {
             "endlinecolor": "#2a3f5f",
             "gridcolor": "white",
             "linecolor": "white",
             "minorgridcolor": "white",
             "startlinecolor": "#2a3f5f"
            },
            "type": "carpet"
           }
          ],
          "choropleth": [
           {
            "colorbar": {
             "outlinewidth": 0,
             "ticks": ""
            },
            "type": "choropleth"
           }
          ],
          "contour": [
           {
            "colorbar": {
             "outlinewidth": 0,
             "ticks": ""
            },
            "colorscale": [
             [
              0,
              "#0d0887"
             ],
             [
              0.1111111111111111,
              "#46039f"
             ],
             [
              0.2222222222222222,
              "#7201a8"
             ],
             [
              0.3333333333333333,
              "#9c179e"
             ],
             [
              0.4444444444444444,
              "#bd3786"
             ],
             [
              0.5555555555555556,
              "#d8576b"
             ],
             [
              0.6666666666666666,
              "#ed7953"
             ],
             [
              0.7777777777777778,
              "#fb9f3a"
             ],
             [
              0.8888888888888888,
              "#fdca26"
             ],
             [
              1,
              "#f0f921"
             ]
            ],
            "type": "contour"
           }
          ],
          "contourcarpet": [
           {
            "colorbar": {
             "outlinewidth": 0,
             "ticks": ""
            },
            "type": "contourcarpet"
           }
          ],
          "heatmap": [
           {
            "colorbar": {
             "outlinewidth": 0,
             "ticks": ""
            },
            "colorscale": [
             [
              0,
              "#0d0887"
             ],
             [
              0.1111111111111111,
              "#46039f"
             ],
             [
              0.2222222222222222,
              "#7201a8"
             ],
             [
              0.3333333333333333,
              "#9c179e"
             ],
             [
              0.4444444444444444,
              "#bd3786"
             ],
             [
              0.5555555555555556,
              "#d8576b"
             ],
             [
              0.6666666666666666,
              "#ed7953"
             ],
             [
              0.7777777777777778,
              "#fb9f3a"
             ],
             [
              0.8888888888888888,
              "#fdca26"
             ],
             [
              1,
              "#f0f921"
             ]
            ],
            "type": "heatmap"
           }
          ],
          "heatmapgl": [
           {
            "colorbar": {
             "outlinewidth": 0,
             "ticks": ""
            },
            "colorscale": [
             [
              0,
              "#0d0887"
             ],
             [
              0.1111111111111111,
              "#46039f"
             ],
             [
              0.2222222222222222,
              "#7201a8"
             ],
             [
              0.3333333333333333,
              "#9c179e"
             ],
             [
              0.4444444444444444,
              "#bd3786"
             ],
             [
              0.5555555555555556,
              "#d8576b"
             ],
             [
              0.6666666666666666,
              "#ed7953"
             ],
             [
              0.7777777777777778,
              "#fb9f3a"
             ],
             [
              0.8888888888888888,
              "#fdca26"
             ],
             [
              1,
              "#f0f921"
             ]
            ],
            "type": "heatmapgl"
           }
          ],
          "histogram": [
           {
            "marker": {
             "pattern": {
              "fillmode": "overlay",
              "size": 10,
              "solidity": 0.2
             }
            },
            "type": "histogram"
           }
          ],
          "histogram2d": [
           {
            "colorbar": {
             "outlinewidth": 0,
             "ticks": ""
            },
            "colorscale": [
             [
              0,
              "#0d0887"
             ],
             [
              0.1111111111111111,
              "#46039f"
             ],
             [
              0.2222222222222222,
              "#7201a8"
             ],
             [
              0.3333333333333333,
              "#9c179e"
             ],
             [
              0.4444444444444444,
              "#bd3786"
             ],
             [
              0.5555555555555556,
              "#d8576b"
             ],
             [
              0.6666666666666666,
              "#ed7953"
             ],
             [
              0.7777777777777778,
              "#fb9f3a"
             ],
             [
              0.8888888888888888,
              "#fdca26"
             ],
             [
              1,
              "#f0f921"
             ]
            ],
            "type": "histogram2d"
           }
          ],
          "histogram2dcontour": [
           {
            "colorbar": {
             "outlinewidth": 0,
             "ticks": ""
            },
            "colorscale": [
             [
              0,
              "#0d0887"
             ],
             [
              0.1111111111111111,
              "#46039f"
             ],
             [
              0.2222222222222222,
              "#7201a8"
             ],
             [
              0.3333333333333333,
              "#9c179e"
             ],
             [
              0.4444444444444444,
              "#bd3786"
             ],
             [
              0.5555555555555556,
              "#d8576b"
             ],
             [
              0.6666666666666666,
              "#ed7953"
             ],
             [
              0.7777777777777778,
              "#fb9f3a"
             ],
             [
              0.8888888888888888,
              "#fdca26"
             ],
             [
              1,
              "#f0f921"
             ]
            ],
            "type": "histogram2dcontour"
           }
          ],
          "mesh3d": [
           {
            "colorbar": {
             "outlinewidth": 0,
             "ticks": ""
            },
            "type": "mesh3d"
           }
          ],
          "parcoords": [
           {
            "line": {
             "colorbar": {
              "outlinewidth": 0,
              "ticks": ""
             }
            },
            "type": "parcoords"
           }
          ],
          "pie": [
           {
            "automargin": true,
            "type": "pie"
           }
          ],
          "scatter": [
           {
            "fillpattern": {
             "fillmode": "overlay",
             "size": 10,
             "solidity": 0.2
            },
            "type": "scatter"
           }
          ],
          "scatter3d": [
           {
            "line": {
             "colorbar": {
              "outlinewidth": 0,
              "ticks": ""
             }
            },
            "marker": {
             "colorbar": {
              "outlinewidth": 0,
              "ticks": ""
             }
            },
            "type": "scatter3d"
           }
          ],
          "scattercarpet": [
           {
            "marker": {
             "colorbar": {
              "outlinewidth": 0,
              "ticks": ""
             }
            },
            "type": "scattercarpet"
           }
          ],
          "scattergeo": [
           {
            "marker": {
             "colorbar": {
              "outlinewidth": 0,
              "ticks": ""
             }
            },
            "type": "scattergeo"
           }
          ],
          "scattergl": [
           {
            "marker": {
             "colorbar": {
              "outlinewidth": 0,
              "ticks": ""
             }
            },
            "type": "scattergl"
           }
          ],
          "scattermapbox": [
           {
            "marker": {
             "colorbar": {
              "outlinewidth": 0,
              "ticks": ""
             }
            },
            "type": "scattermapbox"
           }
          ],
          "scatterpolar": [
           {
            "marker": {
             "colorbar": {
              "outlinewidth": 0,
              "ticks": ""
             }
            },
            "type": "scatterpolar"
           }
          ],
          "scatterpolargl": [
           {
            "marker": {
             "colorbar": {
              "outlinewidth": 0,
              "ticks": ""
             }
            },
            "type": "scatterpolargl"
           }
          ],
          "scatterternary": [
           {
            "marker": {
             "colorbar": {
              "outlinewidth": 0,
              "ticks": ""
             }
            },
            "type": "scatterternary"
           }
          ],
          "surface": [
           {
            "colorbar": {
             "outlinewidth": 0,
             "ticks": ""
            },
            "colorscale": [
             [
              0,
              "#0d0887"
             ],
             [
              0.1111111111111111,
              "#46039f"
             ],
             [
              0.2222222222222222,
              "#7201a8"
             ],
             [
              0.3333333333333333,
              "#9c179e"
             ],
             [
              0.4444444444444444,
              "#bd3786"
             ],
             [
              0.5555555555555556,
              "#d8576b"
             ],
             [
              0.6666666666666666,
              "#ed7953"
             ],
             [
              0.7777777777777778,
              "#fb9f3a"
             ],
             [
              0.8888888888888888,
              "#fdca26"
             ],
             [
              1,
              "#f0f921"
             ]
            ],
            "type": "surface"
           }
          ],
          "table": [
           {
            "cells": {
             "fill": {
              "color": "#EBF0F8"
             },
             "line": {
              "color": "white"
             }
            },
            "header": {
             "fill": {
              "color": "#C8D4E3"
             },
             "line": {
              "color": "white"
             }
            },
            "type": "table"
           }
          ]
         },
         "layout": {
          "annotationdefaults": {
           "arrowcolor": "#2a3f5f",
           "arrowhead": 0,
           "arrowwidth": 1
          },
          "autotypenumbers": "strict",
          "coloraxis": {
           "colorbar": {
            "outlinewidth": 0,
            "ticks": ""
           }
          },
          "colorscale": {
           "diverging": [
            [
             0,
             "#8e0152"
            ],
            [
             0.1,
             "#c51b7d"
            ],
            [
             0.2,
             "#de77ae"
            ],
            [
             0.3,
             "#f1b6da"
            ],
            [
             0.4,
             "#fde0ef"
            ],
            [
             0.5,
             "#f7f7f7"
            ],
            [
             0.6,
             "#e6f5d0"
            ],
            [
             0.7,
             "#b8e186"
            ],
            [
             0.8,
             "#7fbc41"
            ],
            [
             0.9,
             "#4d9221"
            ],
            [
             1,
             "#276419"
            ]
           ],
           "sequential": [
            [
             0,
             "#0d0887"
            ],
            [
             0.1111111111111111,
             "#46039f"
            ],
            [
             0.2222222222222222,
             "#7201a8"
            ],
            [
             0.3333333333333333,
             "#9c179e"
            ],
            [
             0.4444444444444444,
             "#bd3786"
            ],
            [
             0.5555555555555556,
             "#d8576b"
            ],
            [
             0.6666666666666666,
             "#ed7953"
            ],
            [
             0.7777777777777778,
             "#fb9f3a"
            ],
            [
             0.8888888888888888,
             "#fdca26"
            ],
            [
             1,
             "#f0f921"
            ]
           ],
           "sequentialminus": [
            [
             0,
             "#0d0887"
            ],
            [
             0.1111111111111111,
             "#46039f"
            ],
            [
             0.2222222222222222,
             "#7201a8"
            ],
            [
             0.3333333333333333,
             "#9c179e"
            ],
            [
             0.4444444444444444,
             "#bd3786"
            ],
            [
             0.5555555555555556,
             "#d8576b"
            ],
            [
             0.6666666666666666,
             "#ed7953"
            ],
            [
             0.7777777777777778,
             "#fb9f3a"
            ],
            [
             0.8888888888888888,
             "#fdca26"
            ],
            [
             1,
             "#f0f921"
            ]
           ]
          },
          "colorway": [
           "#636efa",
           "#EF553B",
           "#00cc96",
           "#ab63fa",
           "#FFA15A",
           "#19d3f3",
           "#FF6692",
           "#B6E880",
           "#FF97FF",
           "#FECB52"
          ],
          "font": {
           "color": "#2a3f5f"
          },
          "geo": {
           "bgcolor": "white",
           "lakecolor": "white",
           "landcolor": "#E5ECF6",
           "showlakes": true,
           "showland": true,
           "subunitcolor": "white"
          },
          "hoverlabel": {
           "align": "left"
          },
          "hovermode": "closest",
          "mapbox": {
           "style": "light"
          },
          "paper_bgcolor": "white",
          "plot_bgcolor": "#E5ECF6",
          "polar": {
           "angularaxis": {
            "gridcolor": "white",
            "linecolor": "white",
            "ticks": ""
           },
           "bgcolor": "#E5ECF6",
           "radialaxis": {
            "gridcolor": "white",
            "linecolor": "white",
            "ticks": ""
           }
          },
          "scene": {
           "xaxis": {
            "backgroundcolor": "#E5ECF6",
            "gridcolor": "white",
            "gridwidth": 2,
            "linecolor": "white",
            "showbackground": true,
            "ticks": "",
            "zerolinecolor": "white"
           },
           "yaxis": {
            "backgroundcolor": "#E5ECF6",
            "gridcolor": "white",
            "gridwidth": 2,
            "linecolor": "white",
            "showbackground": true,
            "ticks": "",
            "zerolinecolor": "white"
           },
           "zaxis": {
            "backgroundcolor": "#E5ECF6",
            "gridcolor": "white",
            "gridwidth": 2,
            "linecolor": "white",
            "showbackground": true,
            "ticks": "",
            "zerolinecolor": "white"
           }
          },
          "shapedefaults": {
           "line": {
            "color": "#2a3f5f"
           }
          },
          "ternary": {
           "aaxis": {
            "gridcolor": "white",
            "linecolor": "white",
            "ticks": ""
           },
           "baxis": {
            "gridcolor": "white",
            "linecolor": "white",
            "ticks": ""
           },
           "bgcolor": "#E5ECF6",
           "caxis": {
            "gridcolor": "white",
            "linecolor": "white",
            "ticks": ""
           }
          },
          "title": {
           "x": 0.05
          },
          "xaxis": {
           "automargin": true,
           "gridcolor": "white",
           "linecolor": "white",
           "ticks": "",
           "title": {
            "standoff": 15
           },
           "zerolinecolor": "white",
           "zerolinewidth": 2
          },
          "yaxis": {
           "automargin": true,
           "gridcolor": "white",
           "linecolor": "white",
           "ticks": "",
           "title": {
            "standoff": 15
           },
           "zerolinecolor": "white",
           "zerolinewidth": 2
          }
         }
        },
        "title": {
         "text": "Transaction Analysis Dashboard"
        },
        "xaxis": {
         "anchor": "y",
         "domain": [
          0,
          0.45
         ]
        },
        "xaxis2": {
         "anchor": "y2",
         "domain": [
          0.55,
          1
         ]
        },
        "xaxis3": {
         "anchor": "y3",
         "domain": [
          0,
          0.45
         ]
        },
        "xaxis4": {
         "anchor": "y4",
         "domain": [
          0.55,
          1
         ]
        },
        "yaxis": {
         "anchor": "x",
         "domain": [
          0.575,
          1
         ]
        },
        "yaxis2": {
         "anchor": "x2",
         "domain": [
          0.575,
          1
         ]
        },
        "yaxis3": {
         "anchor": "x3",
         "domain": [
          0,
          0.425
         ]
        },
        "yaxis4": {
         "anchor": "x4",
         "domain": [
          0,
          0.425
         ]
        }
       }
      }
     },
     "metadata": {},
     "output_type": "display_data"
    },
    {
     "name": "stdout",
     "output_type": "stream",
     "text": [
      "\n",
      "Key Business Insights:\n",
      "1. Customer Base: Total 200 customers, primarily from South America\n",
      "2. Average customer age on platform: 558 days\n",
      "3. Most popular product category: Books\n",
      "4. Average transaction value: $690.00\n",
      "5. Total revenue generated: $689995.56\n"
     ]
    }
   ],
   "source": [
    "# Part 3: Advanced Exploratory Data Analysis\n",
    "def perform_eda():\n",
    "    \"\"\"\n",
    "    Comprehensive EDA with advanced visualizations\n",
    "    \"\"\"\n",
    "    # 1. Customer Analysis\n",
    "    plt.figure(figsize=(15, 10))\n",
    "    \n",
    "    # Customer distribution by region\n",
    "    plt.subplot(2, 2, 1)\n",
    "    sns.countplot(data=customers_df, x='Region')\n",
    "    plt.title('Customer Distribution by Region')\n",
    "    plt.xticks(rotation=45)\n",
    "    \n",
    "    # Customer signup trends\n",
    "    plt.subplot(2, 2, 2)\n",
    "    customers_df['SignupDate'].dt.year.value_counts().sort_index().plot(kind='line')\n",
    "    plt.title('Customer Signup Trends by Year')\n",
    "    \n",
    "    # 2. Product Analysis\n",
    "    plt.subplot(2, 2, 3)\n",
    "    products_df['Category'].value_counts().plot(kind='pie', autopct='%1.1f%%')\n",
    "    plt.title('Product Category Distribution')\n",
    "    \n",
    "    # Price distribution\n",
    "    plt.subplot(2, 2, 4)\n",
    "    sns.histplot(data=products_df, x='Price', bins=30)\n",
    "    plt.title('Product Price Distribution')\n",
    "    \n",
    "    plt.tight_layout()\n",
    "    plt.show()\n",
    "    \n",
    "    # 3. Transaction Analysis\n",
    "    fig = make_subplots(rows=2, cols=2)\n",
    "    \n",
    "    # Transaction value trends\n",
    "    monthly_sales = transactions_df.groupby(['Year', 'Month'])['TotalValue'].sum().reset_index()\n",
    "    fig.add_trace(\n",
    "        go.Scatter(x=monthly_sales.index, y=monthly_sales['TotalValue'], name='Monthly Sales'),\n",
    "        row=1, col=1\n",
    "    )\n",
    "    \n",
    "    # Customer purchase frequency\n",
    "    purchase_freq = transactions_df['CustomerID'].value_counts()\n",
    "    fig.add_trace(\n",
    "        go.Histogram(x=purchase_freq, name='Purchase Frequency'),\n",
    "        row=1, col=2\n",
    "    )\n",
    "    \n",
    "    # Category performance\n",
    "    category_sales = transactions_df.merge(products_df, on='ProductID')\\\n",
    "        .groupby('Category')['TotalValue'].sum()\n",
    "    fig.add_trace(\n",
    "        go.Bar(x=category_sales.index, y=category_sales.values, name='Category Sales'),\n",
    "        row=2, col=1\n",
    "    )\n",
    "    \n",
    "    # Customer value distribution\n",
    "    customer_value = transactions_df.groupby('CustomerID')['TotalValue'].sum()\n",
    "    fig.add_trace(\n",
    "        go.Box(y=customer_value, name='Customer Value Distribution'),\n",
    "        row=2, col=2\n",
    "    )\n",
    "    \n",
    "    fig.update_layout(height=800, title_text=\"Transaction Analysis Dashboard\")\n",
    "    fig.show()\n",
    "\n",
    "# Perform EDA\n",
    "perform_eda()\n",
    "\n",
    "# Generate key insights\n",
    "def generate_insights():\n",
    "    \"\"\"\n",
    "    Generate key business insights from the data\n",
    "    \"\"\"\n",
    "    insights = []\n",
    "    \n",
    "    # Customer insights\n",
    "    total_customers = len(customers_df)\n",
    "    avg_customer_age = customers_df['CustomerAge'].mean()\n",
    "    top_region = customers_df['Region'].mode()[0]\n",
    "    \n",
    "    # Product insights\n",
    "    avg_price = products_df['Price'].mean()\n",
    "    top_category = products_df['Category'].mode()[0]\n",
    "    \n",
    "    # Transaction insights\n",
    "    total_revenue = transactions_df['TotalValue'].sum()\n",
    "    avg_transaction_value = transactions_df['TotalValue'].mean()\n",
    "    \n",
    "    insights.append(f\"1. Customer Base: Total {total_customers} customers, primarily from {top_region}\")\n",
    "    insights.append(f\"2. Average customer age on platform: {avg_customer_age:.0f} days\")\n",
    "    insights.append(f\"3. Most popular product category: {top_category}\")\n",
    "    insights.append(f\"4. Average transaction value: ${avg_transaction_value:.2f}\")\n",
    "    insights.append(f\"5. Total revenue generated: ${total_revenue:.2f}\")\n",
    "    \n",
    "    return insights\n",
    "\n",
    "insights = generate_insights()\n",
    "print(\"\\nKey Business Insights:\")\n",
    "for insight in insights:\n",
    "    print(insight)"
   ]
  },
  {
   "cell_type": "markdown",
   "metadata": {},
   "source": [
    "# Task 2: Lookalike Model"
   ]
  },
  {
   "cell_type": "markdown",
   "metadata": {},
   "source": [
    "Task 2: Lookalike Model Summary\n",
    "\n",
    "(Note: This section would be complemented by the Lookalike.csv file containing detailed similarity scores)\n",
    "\n",
    "Model Approach\n",
    "\n",
    "•\tUtilized customer transaction history and profile information\n",
    "\n",
    "•\tImplemented NearestNeighbors algorithm for similarity scoring\n",
    "\n",
    "•\tIncorporated both demographic and behavioral features\n",
    "\n",
    "•\tGenerated recommendations for customers C0001-C0020\n"
   ]
  },
  {
   "cell_type": "code",
   "execution_count": 16,
   "metadata": {},
   "outputs": [
    {
     "name": "stdout",
     "output_type": "stream",
     "text": [
      "Creating lookalike model...\n",
      "Creating features...\n",
      "Features created. Shape: (200, 16)\n",
      "Calculating similarity matrix...\n",
      "Similarity matrix calculated.\n",
      "Generating recommendations...\n",
      "Results saved to Lookalike.csv\n",
      "\n",
      "Sample recommendations:\n",
      "\n",
      "Customer C0001:\n",
      "Similar customer: C0125, Score: 0.797\n",
      "Similar customer: C0069, Score: 0.772\n",
      "Similar customer: C0023, Score: 0.657\n",
      "\n",
      "Customer C0002:\n",
      "Similar customer: C0029, Score: 0.781\n",
      "Similar customer: C0086, Score: 0.774\n",
      "Similar customer: C0083, Score: 0.764\n",
      "\n",
      "Customer C0003:\n",
      "Similar customer: C0144, Score: 0.842\n",
      "Similar customer: C0091, Score: 0.619\n",
      "Similar customer: C0018, Score: 0.619\n",
      "\n",
      "Customer C0004:\n",
      "Similar customer: C0075, Score: 0.931\n",
      "Similar customer: C0113, Score: 0.822\n",
      "Similar customer: C0104, Score: 0.799\n",
      "\n",
      "Customer C0005:\n",
      "Similar customer: C0130, Score: 0.833\n",
      "Similar customer: C0150, Score: 0.813\n",
      "Similar customer: C0060, Score: 0.785\n"
     ]
    }
   ],
   "source": [
    "# Part 4: Enhanced Lookalike Model (Corrected Version)\n",
    "\n",
    "class LookalikeModel:\n",
    "    def __init__(self, customers_df, transactions_df, products_df):\n",
    "        self.customers_df = customers_df\n",
    "        self.transactions_df = transactions_df\n",
    "        self.products_df = products_df\n",
    "        self.customer_features = None\n",
    "        self.similarity_matrix = None\n",
    "        \n",
    "    def create_features(self):\n",
    "        \"\"\"\n",
    "        Create comprehensive customer features for similarity calculation\n",
    "        \"\"\"\n",
    "        try:\n",
    "            # Transaction-based features\n",
    "            transaction_features = self.transactions_df.groupby('CustomerID').agg({\n",
    "                'TotalValue': ['sum', 'mean', 'std'],\n",
    "                'Quantity': ['sum', 'mean', 'std'],\n",
    "                'TransactionID': 'count'\n",
    "            }).reset_index()\n",
    "            \n",
    "            # Flatten column names\n",
    "            transaction_features.columns = ['CustomerID', 'Total_Spend', 'Avg_Transaction_Value',\n",
    "                                          'Std_Transaction_Value', 'Total_Quantity', 'Avg_Quantity',\n",
    "                                          'Std_Quantity', 'Transaction_Count']\n",
    "            \n",
    "            # Replace infinite values with NaN\n",
    "            transaction_features = transaction_features.replace([np.inf, -np.inf], np.nan)\n",
    "            \n",
    "            # Fill NaN values with 0 for new customers with no transactions\n",
    "            transaction_features = transaction_features.fillna(0)\n",
    "            \n",
    "            # Product category preferences\n",
    "            product_categories = self.transactions_df.merge(self.products_df, on='ProductID')\\\n",
    "                .groupby(['CustomerID', 'Category'])['TotalValue'].sum().unstack(fill_value=0)\n",
    "            \n",
    "            # Merge all features\n",
    "            self.customer_features = self.customers_df.merge(transaction_features, on='CustomerID', how='left')\\\n",
    "                .merge(product_categories, on='CustomerID', how='left')\n",
    "            \n",
    "            # Fill any remaining NaN values\n",
    "            self.customer_features = self.customer_features.fillna(0)\n",
    "            \n",
    "            # Scale features\n",
    "            scaler = StandardScaler()\n",
    "            feature_columns = self.customer_features.select_dtypes(include=[np.number]).columns\n",
    "            scaled_features = scaler.fit_transform(self.customer_features[feature_columns])\n",
    "            self.customer_features[feature_columns] = scaled_features\n",
    "            \n",
    "            return self.customer_features\n",
    "            \n",
    "        except Exception as e:\n",
    "            print(f\"Error in create_features: {str(e)}\")\n",
    "            raise\n",
    "    \n",
    "    def calculate_similarity(self):\n",
    "        \"\"\"\n",
    "        Calculate customer similarity using cosine similarity\n",
    "        \"\"\"\n",
    "        try:\n",
    "            # Select only numeric columns\n",
    "            feature_columns = self.customer_features.select_dtypes(include=[np.number]).columns\n",
    "            \n",
    "            # Verify no NaN values\n",
    "            if self.customer_features[feature_columns].isnull().any().any():\n",
    "                print(\"Warning: NaN values found. Filling with 0...\")\n",
    "                self.customer_features[feature_columns] = self.customer_features[feature_columns].fillna(0)\n",
    "            \n",
    "            # Calculate similarity\n",
    "            self.similarity_matrix = cosine_similarity(self.customer_features[feature_columns])\n",
    "            return self.similarity_matrix\n",
    "            \n",
    "        except Exception as e:\n",
    "            print(f\"Error in calculate_similarity: {str(e)}\")\n",
    "            raise\n",
    "    \n",
    "    def get_lookalikes(self, customer_id, n=3):\n",
    "        \"\"\"\n",
    "        Get top n similar customers for a given customer\n",
    "        \"\"\"\n",
    "        try:\n",
    "            customer_index = self.customer_features[\n",
    "                self.customer_features['CustomerID'] == customer_id\n",
    "            ].index[0]\n",
    "            \n",
    "            similarities = self.similarity_matrix[customer_index]\n",
    "            similar_indices = np.argsort(similarities)[::-1][1:n+1]\n",
    "            \n",
    "            similar_customers = []\n",
    "            for idx in similar_indices:\n",
    "                similar_customers.append({\n",
    "                    'customer_id': self.customer_features.iloc[idx]['CustomerID'],\n",
    "                    'similarity_score': round(float(similarities[idx]), 3)\n",
    "                })\n",
    "            \n",
    "            return similar_customers\n",
    "            \n",
    "        except Exception as e:\n",
    "            print(f\"Error in get_lookalikes for customer {customer_id}: {str(e)}\")\n",
    "            return []\n",
    "\n",
    "# Create and train lookalike model\n",
    "try:\n",
    "    print(\"Creating lookalike model...\")\n",
    "    lookalike_model = LookalikeModel(customers_df, transactions_df, products_df)\n",
    "    \n",
    "    print(\"Creating features...\")\n",
    "    customer_features = lookalike_model.create_features()\n",
    "    print(f\"Features created. Shape: {customer_features.shape}\")\n",
    "    \n",
    "    print(\"Calculating similarity matrix...\")\n",
    "    similarity_matrix = lookalike_model.calculate_similarity()\n",
    "    print(\"Similarity matrix calculated.\")\n",
    "    \n",
    "    # Generate recommendations for first 20 customers\n",
    "    print(\"Generating recommendations...\")\n",
    "    lookalike_results = {}\n",
    "    for customer_id in customers_df['CustomerID'][:20]:\n",
    "        lookalike_results[customer_id] = lookalike_model.get_lookalikes(customer_id)\n",
    "    \n",
    "    # Save results to CSV\n",
    "    lookalike_df = pd.DataFrame([(k, str(v)) for k, v in lookalike_results.items()],\n",
    "                               columns=['CustomerID', 'Similar_Customers'])\n",
    "    lookalike_df.to_csv('Lookalike.csv', index=False)\n",
    "    print(\"Results saved to Lookalike.csv\")\n",
    "    \n",
    "    # Display sample results\n",
    "    print(\"\\nSample recommendations:\")\n",
    "    for customer_id, similar_customers in list(lookalike_results.items())[:5]:\n",
    "        print(f\"\\nCustomer {customer_id}:\")\n",
    "        for sc in similar_customers:\n",
    "            print(f\"Similar customer: {sc['customer_id']}, Score: {sc['similarity_score']}\")\n",
    "            \n",
    "except Exception as e:\n",
    "    print(f\"Error in main execution: {str(e)}\")"
   ]
  },
  {
   "cell_type": "markdown",
   "metadata": {},
   "source": [
    "# Task 3: Customer Segmentation"
   ]
  },
  {
   "cell_type": "code",
   "execution_count": 17,
   "metadata": {},
   "outputs": [
    {
     "data": {
      "image/png": "[encoded data removed]",
      "text/plain": [
       "<Figure size 1500x500 with 3 Axes>"
      ]
     },
     "metadata": {},
     "output_type": "display_data"
    },
    {
     "data": {
      "application/vnd.plotly.v1+json": {
       "config": {
        "plotlyServerURL": "https://plot.ly"
       },
       "data": [
        {
         "name": "Cluster Sizes",
         "type": "bar",
         "x": [
          "1",
          "0"
         ],
         "xaxis": "x",
         "y": [
          129,
          71
         ],
         "yaxis": "y"
        },
        {
         "name": "Avg Spending",
         "type": "bar",
         "x": [
          "0",
          "1"
         ],
         "xaxis": "x2",
         "y": [
          1.0880992507408833,
          -0.5988763318031216
         ],
         "yaxis": "y2"
        },
        {
         "name": "Transaction Frequency",
         "type": "bar",
         "x": [
          "0",
          "1"
         ],
         "xaxis": "x3",
         "y": [
          0.832668625285277,
          -0.4582904836841447
         ],
         "yaxis": "y3"
        },
        {
         "name": "Customer Value Distribution",
         "type": "box",
         "x": [
          "1",
          "1",
          "1",
          "0",
          "1",
          "0",
          "1",
          "0",
          "1",
          "1",
          "1",
          "0",
          "0",
          "1",
          "1",
          "1",
          "0",
          "0",
          "1",
          "1",
          "0",
          "0",
          "0",
          "1",
          "1",
          "1",
          "1",
          "0",
          "1",
          "1",
          "1",
          "1",
          "1",
          "1",
          "1",
          "1",
          "0",
          "1",
          "0",
          "0",
          "0",
          "1",
          "1",
          "1",
          "0",
          "0",
          "1",
          "1",
          "1",
          "1",
          "0",
          "1",
          "0",
          "0",
          "1",
          "1",
          "0",
          "1",
          "0",
          "1",
          "1",
          "1",
          "1",
          "1",
          "0",
          "1",
          "1",
          "0",
          "1",
          "1",
          "1",
          "1",
          "1",
          "1",
          "0",
          "1",
          "1",
          "1",
          "0",
          "1",
          "1",
          "0",
          "1",
          "0",
          "1",
          "1",
          "0",
          "1",
          "1",
          "0",
          "0",
          "1",
          "0",
          "1",
          "1",
          "0",
          "1",
          "1",
          "0",
          "0",
          "0",
          "0",
          "1",
          "0",
          "0",
          "1",
          "1",
          "0",
          "0",
          "1",
          "1",
          "1",
          "0",
          "0",
          "1",
          "1",
          "0",
          "1",
          "1",
          "1",
          "1",
          "0",
          "1",
          "0",
          "1",
          "0",
          "1",
          "1",
          "1",
          "1",
          "1",
          "1",
          "1",
          "1",
          "1",
          "0",
          "1",
          "0",
          "1",
          "1",
          "0",
          "1",
          "0",
          "1",
          "0",
          "1",
          "1",
          "0",
          "0",
          "1",
          "1",
          "1",
          "0",
          "1",
          "0",
          "0",
          "1",
          "1",
          "1",
          "1",
          "1",
          "0",
          "0",
          "1",
          "0",
          "1",
          "1",
          "0",
          "0",
          "0",
          "0",
          "1",
          "0",
          "1",
          "0",
          "1",
          "1",
          "1",
          "1",
          "1",
          "1",
          "0",
          "1",
          "1",
          "1",
          "1",
          "1",
          "0",
          "1",
          "1",
          "1",
          "1",
          "1",
          "1",
          "0",
          "0",
          "1",
          "1",
          "1",
          "0"
         ],
         "xaxis": "x4",
         "y": [
          -0.0518843563869403,
          -0.8627143270222414,
          -0.3938419960693958,
          1.035375051877033,
          -0.7694986115923831,
          0.42264614131590383,
          -0.47295849483307056,
          0.4465832848000494,
          -1.387896559540879,
          -0.9416297189946095,
          0.15220098955826772,
          0.9681836423059592,
          1.386322708662753,
          -1.7019710143746363,
          -1.2460456125269757,
          0.23069786199197123,
          0.7086797870591282,
          0.7239149853302592,
          -0.6871100509809668,
          -1.373813648830747,
          1.0707263645974878,
          0.6550060150550552,
          0.9287177933417494,
          0.09622807775088105,
          -1.0110604798634732,
          0.053848897972070334,
          -0.4821333127715894,
          1.831480744197495,
          -0.904495621745817,
          -0.4893405453465159,
          -0.7851849413142822,
          -1.5093759321273126,
          -1.8030788125335997,
          -0.20479074160401184,
          -0.468724381578268,
          -0.8544417719852593,
          0.4363431443994753,
          -0.40934896027472456,
          0.4291848296927042,
          0.2823225188521923,
          1.4674285340647555,
          -0.5693430010556757,
          -1.2602644062042063,
          -0.1195051561340467,
          1.3978673255474772,
          1.1837320753556326,
          -0.3149429100530796,
          0.2179357337220405,
          -0.6166357089247833,
          -0.20716597586890112,
          1.2227250515943382,
          -0.5228601556704773,
          1.0144925574932713,
          2.4950353197723034,
          -0.3219327298806478,
          -0.14514355436627052,
          0.5905050882325403,
          -1.65974945883766,
          1.9693802145281618,
          -1.8304075948765341,
          -0.7129604266418648,
          -0.9840306400481562,
          -1.126093564490734,
          0.32057085643119615,
          2.2902923002663367,
          0.18985687740072,
          0.3483290289501634,
          1.3590700207813937,
          -0.31051312532565484,
          -0.17636946020560224,
          -1.113777132352888,
          -0.24480012243661758,
          -0.7552037234535768,
          -0.2145634445977661,
          1.3039287127326524,
          -0.6070804186783874,
          -1.4200736461499028,
          -1.3340760339323392,
          0.435685470838716,
          -1.327553651511591,
          0.05027789359671066,
          2.2409450419346935,
          -1.5257905945528618,
          0.5387065011744329,
          -0.4628977199490665,
          -0.37791651232540263,
          1.71443659165717,
          -0.7145257984228444,
          -0.4857858469272082,
          0.37404895696264656,
          -0.16975467736722682,
          -0.2359079410696645,
          1.002822928278816,
          -1.2408874950959006,
          -1.177131206933088,
          1.425652674659864,
          -1.800415506378461,
          -0.1586883685266908,
          1.7750349596646042,
          0.8443616473667407,
          1.1419670865881089,
          1.4579602089173032,
          -0.5366984770398314,
          1.7007776358043871,
          0.7378294011611882,
          -0.27756965878219286,
          0.0945431289588545,
          0.7601631256335667,
          1.1073223652965687,
          -1.3629919293309891,
          -0.8027736325755663,
          -0.8101167481175919,
          0.7403568243492284,
          1.266675038472813,
          -0.17001557266405676,
          -0.3757423848518197,
          0.31432023994464614,
          -0.00826592394818758,
          -1.2274948698586314,
          -0.5326382939829156,
          -1.3454902031686484,
          0.8819196994728821,
          -1.1141956518915526,
          0.442626372798129,
          -0.2587308442235988,
          0.6063599128336422,
          -0.11799957285859045,
          -1.4549194742327498,
          -0.6035202849403956,
          -1.5483145551791786,
          -0.81864476313272,
          -0.8689540728714239,
          -0.3074476055879033,
          -0.4188988152024364,
          -0.1708852236534898,
          0.46146518735672304,
          -0.06382575153559343,
          1.1741767851092366,
          0.13787348950735764,
          -0.8489086175649914,
          3.926415624554947,
          -0.6581832849449487,
          1.4102761581029504,
          -1.1660377214991322,
          1.2616962865583086,
          -0.4778611522859993,
          -0.27260177750505643,
          1.091309916453632,
          0.5189654237143015,
          -1.5597395950528556,
          -1.7534434823117067,
          -0.03485006763142024,
          0.7037716942875153,
          0.1378571835513059,
          1.0478491082567138,
          2.2743939931157633,
          -0.8554527412604752,
          0.14487417997229401,
          -0.7487520001757202,
          -0.28429314799424754,
          -0.1674881494760168,
          0.7349976001268468,
          1.2638758493505748,
          -0.1969149648309586,
          1.7708932468274294,
          -0.5677884999120637,
          -0.6248212988628221,
          0.8717447828965149,
          0.5888310100778816,
          0.8053849770840867,
          0.9214888194920874,
          -0.6784787649108434,
          1.2816819533592174,
          -0.3033058927507283,
          1.5004480950697927,
          -0.6080261641293957,
          -0.5110111609394516,
          -0.40283744849134434,
          0.1102566352741734,
          -1.8751728795576021,
          -0.05564559691623841,
          0.8320343445915266,
          0.217544390776796,
          -0.03087141435476356,
          -0.013945831972922538,
          -0.9176653989170444,
          0.6318352515053475,
          1.9900561668019339,
          -0.4385040096954685,
          -0.253806445495934,
          -0.24568064406341852,
          -0.7485835052965173,
          -0.23952786331317938,
          0.22784431968289393,
          0.31866849489181126,
          0.8331811968338418,
          -0.8268901415762824,
          -1.3686935786304597,
          -0.7993711230794094,
          0.7112778693900598
         ],
         "yaxis": "y4"
        }
       ],
       "layout": {
        "height": 800,
        "showlegend": true,
        "template": {
         "data": {
          "bar": [
           {
            "error_x": {
             "color": "#2a3f5f"
            },
            "error_y": {
             "color": "#2a3f5f"
            },
            "marker": {
             "line": {
              "color": "#E5ECF6",
              "width": 0.5
             },
             "pattern": {
              "fillmode": "overlay",
              "size": 10,
              "solidity": 0.2
             }
            },
            "type": "bar"
           }
          ],
          "barpolar": [
           {
            "marker": {
             "line": {
              "color": "#E5ECF6",
              "width": 0.5
             },
             "pattern": {
              "fillmode": "overlay",
              "size": 10,
              "solidity": 0.2
             }
            },
            "type": "barpolar"
           }
          ],
          "carpet": [
           {
            "aaxis": {
             "endlinecolor": "#2a3f5f",
             "gridcolor": "white",
             "linecolor": "white",
             "minorgridcolor": "white",
             "startlinecolor": "#2a3f5f"
            },
            "baxis": {
             "endlinecolor": "#2a3f5f",
             "gridcolor": "white",
             "linecolor": "white",
             "minorgridcolor": "white",
             "startlinecolor": "#2a3f5f"
            },
            "type": "carpet"
           }
          ],
          "choropleth": [
           {
            "colorbar": {
             "outlinewidth": 0,
             "ticks": ""
            },
            "type": "choropleth"
           }
          ],
          "contour": [
           {
            "colorbar": {
             "outlinewidth": 0,
             "ticks": ""
            },
            "colorscale": [
             [
              0,
              "#0d0887"
             ],
             [
              0.1111111111111111,
              "#46039f"
             ],
             [
              0.2222222222222222,
              "#7201a8"
             ],
             [
              0.3333333333333333,
              "#9c179e"
             ],
             [
              0.4444444444444444,
              "#bd3786"
             ],
             [
              0.5555555555555556,
              "#d8576b"
             ],
             [
              0.6666666666666666,
              "#ed7953"
             ],
             [
              0.7777777777777778,
              "#fb9f3a"
             ],
             [
              0.8888888888888888,
              "#fdca26"
             ],
             [
              1,
              "#f0f921"
             ]
            ],
            "type": "contour"
           }
          ],
          "contourcarpet": [
           {
            "colorbar": {
             "outlinewidth": 0,
             "ticks": ""
            },
            "type": "contourcarpet"
           }
          ],
          "heatmap": [
           {
            "colorbar": {
             "outlinewidth": 0,
             "ticks": ""
            },
            "colorscale": [
             [
              0,
              "#0d0887"
             ],
             [
              0.1111111111111111,
              "#46039f"
             ],
             [
              0.2222222222222222,
              "#7201a8"
             ],
             [
              0.3333333333333333,
              "#9c179e"
             ],
             [
              0.4444444444444444,
              "#bd3786"
             ],
             [
              0.5555555555555556,
              "#d8576b"
             ],
             [
              0.6666666666666666,
              "#ed7953"
             ],
             [
              0.7777777777777778,
              "#fb9f3a"
             ],
             [
              0.8888888888888888,
              "#fdca26"
             ],
             [
              1,
              "#f0f921"
             ]
            ],
            "type": "heatmap"
           }
          ],
          "heatmapgl": [
           {
            "colorbar": {
             "outlinewidth": 0,
             "ticks": ""
            },
            "colorscale": [
             [
              0,
              "#0d0887"
             ],
             [
              0.1111111111111111,
              "#46039f"
             ],
             [
              0.2222222222222222,
              "#7201a8"
             ],
             [
              0.3333333333333333,
              "#9c179e"
             ],
             [
              0.4444444444444444,
              "#bd3786"
             ],
             [
              0.5555555555555556,
              "#d8576b"
             ],
             [
              0.6666666666666666,
              "#ed7953"
             ],
             [
              0.7777777777777778,
              "#fb9f3a"
             ],
             [
              0.8888888888888888,
              "#fdca26"
             ],
             [
              1,
              "#f0f921"
             ]
            ],
            "type": "heatmapgl"
           }
          ],
          "histogram": [
           {
            "marker": {
             "pattern": {
              "fillmode": "overlay",
              "size": 10,
              "solidity": 0.2
             }
            },
            "type": "histogram"
           }
          ],
          "histogram2d": [
           {
            "colorbar": {
             "outlinewidth": 0,
             "ticks": ""
            },
            "colorscale": [
             [
              0,
              "#0d0887"
             ],
             [
              0.1111111111111111,
              "#46039f"
             ],
             [
              0.2222222222222222,
              "#7201a8"
             ],
             [
              0.3333333333333333,
              "#9c179e"
             ],
             [
              0.4444444444444444,
              "#bd3786"
             ],
             [
              0.5555555555555556,
              "#d8576b"
             ],
             [
              0.6666666666666666,
              "#ed7953"
             ],
             [
              0.7777777777777778,
              "#fb9f3a"
             ],
             [
              0.8888888888888888,
              "#fdca26"
             ],
             [
              1,
              "#f0f921"
             ]
            ],
            "type": "histogram2d"
           }
          ],
          "histogram2dcontour": [
           {
            "colorbar": {
             "outlinewidth": 0,
             "ticks": ""
            },
            "colorscale": [
             [
              0,
              "#0d0887"
             ],
             [
              0.1111111111111111,
              "#46039f"
             ],
             [
              0.2222222222222222,
              "#7201a8"
             ],
             [
              0.3333333333333333,
              "#9c179e"
             ],
             [
              0.4444444444444444,
              "#bd3786"
             ],
             [
              0.5555555555555556,
              "#d8576b"
             ],
             [
              0.6666666666666666,
              "#ed7953"
             ],
             [
              0.7777777777777778,
              "#fb9f3a"
             ],
             [
              0.8888888888888888,
              "#fdca26"
             ],
             [
              1,
              "#f0f921"
             ]
            ],
            "type": "histogram2dcontour"
           }
          ],
          "mesh3d": [
           {
            "colorbar": {
             "outlinewidth": 0,
             "ticks": ""
            },
            "type": "mesh3d"
           }
          ],
          "parcoords": [
           {
            "line": {
             "colorbar": {
              "outlinewidth": 0,
              "ticks": ""
             }
            },
            "type": "parcoords"
           }
          ],
          "pie": [
           {
            "automargin": true,
            "type": "pie"
           }
          ],
          "scatter": [
           {
            "fillpattern": {
             "fillmode": "overlay",
             "size": 10,
             "solidity": 0.2
            },
            "type": "scatter"
           }
          ],
          "scatter3d": [
           {
            "line": {
             "colorbar": {
              "outlinewidth": 0,
              "ticks": ""
             }
            },
            "marker": {
             "colorbar": {
              "outlinewidth": 0,
              "ticks": ""
             }
            },
            "type": "scatter3d"
           }
          ],
          "scattercarpet": [
           {
            "marker": {
             "colorbar": {
              "outlinewidth": 0,
              "ticks": ""
             }
            },
            "type": "scattercarpet"
           }
          ],
          "scattergeo": [
           {
            "marker": {
             "colorbar": {
              "outlinewidth": 0,
              "ticks": ""
             }
            },
            "type": "scattergeo"
           }
          ],
          "scattergl": [
           {
            "marker": {
             "colorbar": {
              "outlinewidth": 0,
              "ticks": ""
             }
            },
            "type": "scattergl"
           }
          ],
          "scattermapbox": [
           {
            "marker": {
             "colorbar": {
              "outlinewidth": 0,
              "ticks": ""
             }
            },
            "type": "scattermapbox"
           }
          ],
          "scatterpolar": [
           {
            "marker": {
             "colorbar": {
              "outlinewidth": 0,
              "ticks": ""
             }
            },
            "type": "scatterpolar"
           }
          ],
          "scatterpolargl": [
           {
            "marker": {
             "colorbar": {
              "outlinewidth": 0,
              "ticks": ""
             }
            },
            "type": "scatterpolargl"
           }
          ],
          "scatterternary": [
           {
            "marker": {
             "colorbar": {
              "outlinewidth": 0,
              "ticks": ""
             }
            },
            "type": "scatterternary"
           }
          ],
          "surface": [
           {
            "colorbar": {
             "outlinewidth": 0,
             "ticks": ""
            },
            "colorscale": [
             [
              0,
              "#0d0887"
             ],
             [
              0.1111111111111111,
              "#46039f"
             ],
             [
              0.2222222222222222,
              "#7201a8"
             ],
             [
              0.3333333333333333,
              "#9c179e"
             ],
             [
              0.4444444444444444,
              "#bd3786"
             ],
             [
              0.5555555555555556,
              "#d8576b"
             ],
             [
              0.6666666666666666,
              "#ed7953"
             ],
             [
              0.7777777777777778,
              "#fb9f3a"
             ],
             [
              0.8888888888888888,
              "#fdca26"
             ],
             [
              1,
              "#f0f921"
             ]
            ],
            "type": "surface"
           }
          ],
          "table": [
           {
            "cells": {
             "fill": {
              "color": "#EBF0F8"
             },
             "line": {
              "color": "white"
             }
            },
            "header": {
             "fill": {
              "color": "#C8D4E3"
             },
             "line": {
              "color": "white"
             }
            },
            "type": "table"
           }
          ]
         },
         "layout": {
          "annotationdefaults": {
           "arrowcolor": "#2a3f5f",
           "arrowhead": 0,
           "arrowwidth": 1
          },
          "autotypenumbers": "strict",
          "coloraxis": {
           "colorbar": {
            "outlinewidth": 0,
            "ticks": ""
           }
          },
          "colorscale": {
           "diverging": [
            [
             0,
             "#8e0152"
            ],
            [
             0.1,
             "#c51b7d"
            ],
            [
             0.2,
             "#de77ae"
            ],
            [
             0.3,
             "#f1b6da"
            ],
            [
             0.4,
             "#fde0ef"
            ],
            [
             0.5,
             "#f7f7f7"
            ],
            [
             0.6,
             "#e6f5d0"
            ],
            [
             0.7,
             "#b8e186"
            ],
            [
             0.8,
             "#7fbc41"
            ],
            [
             0.9,
             "#4d9221"
            ],
            [
             1,
             "#276419"
            ]
           ],
           "sequential": [
            [
             0,
             "#0d0887"
            ],
            [
             0.1111111111111111,
             "#46039f"
            ],
            [
             0.2222222222222222,
             "#7201a8"
            ],
            [
             0.3333333333333333,
             "#9c179e"
            ],
            [
             0.4444444444444444,
             "#bd3786"
            ],
            [
             0.5555555555555556,
             "#d8576b"
            ],
            [
             0.6666666666666666,
             "#ed7953"
            ],
            [
             0.7777777777777778,
             "#fb9f3a"
            ],
            [
             0.8888888888888888,
             "#fdca26"
            ],
            [
             1,
             "#f0f921"
            ]
           ],
           "sequentialminus": [
            [
             0,
             "#0d0887"
            ],
            [
             0.1111111111111111,
             "#46039f"
            ],
            [
             0.2222222222222222,
             "#7201a8"
            ],
            [
             0.3333333333333333,
             "#9c179e"
            ],
            [
             0.4444444444444444,
             "#bd3786"
            ],
            [
             0.5555555555555556,
             "#d8576b"
            ],
            [
             0.6666666666666666,
             "#ed7953"
            ],
            [
             0.7777777777777778,
             "#fb9f3a"
            ],
            [
             0.8888888888888888,
             "#fdca26"
            ],
            [
             1,
             "#f0f921"
            ]
           ]
          },
          "colorway": [
           "#636efa",
           "#EF553B",
           "#00cc96",
           "#ab63fa",
           "#FFA15A",
           "#19d3f3",
           "#FF6692",
           "#B6E880",
           "#FF97FF",
           "#FECB52"
          ],
          "font": {
           "color": "#2a3f5f"
          },
          "geo": {
           "bgcolor": "white",
           "lakecolor": "white",
           "landcolor": "#E5ECF6",
           "showlakes": true,
           "showland": true,
           "subunitcolor": "white"
          },
          "hoverlabel": {
           "align": "left"
          },
          "hovermode": "closest",
          "mapbox": {
           "style": "light"
          },
          "paper_bgcolor": "white",
          "plot_bgcolor": "#E5ECF6",
          "polar": {
           "angularaxis": {
            "gridcolor": "white",
            "linecolor": "white",
            "ticks": ""
           },
           "bgcolor": "#E5ECF6",
           "radialaxis": {
            "gridcolor": "white",
            "linecolor": "white",
            "ticks": ""
           }
          },
          "scene": {
           "xaxis": {
            "backgroundcolor": "#E5ECF6",
            "gridcolor": "white",
            "gridwidth": 2,
            "linecolor": "white",
            "showbackground": true,
            "ticks": "",
            "zerolinecolor": "white"
           },
           "yaxis": {
            "backgroundcolor": "#E5ECF6",
            "gridcolor": "white",
            "gridwidth": 2,
            "linecolor": "white",
            "showbackground": true,
            "ticks": "",
            "zerolinecolor": "white"
           },
           "zaxis": {
            "backgroundcolor": "#E5ECF6",
            "gridcolor": "white",
            "gridwidth": 2,
            "linecolor": "white",
            "showbackground": true,
            "ticks": "",
            "zerolinecolor": "white"
           }
          },
          "shapedefaults": {
           "line": {
            "color": "#2a3f5f"
           }
          },
          "ternary": {
           "aaxis": {
            "gridcolor": "white",
            "linecolor": "white",
            "ticks": ""
           },
           "baxis": {
            "gridcolor": "white",
            "linecolor": "white",
            "ticks": ""
           },
           "bgcolor": "#E5ECF6",
           "caxis": {
            "gridcolor": "white",
            "linecolor": "white",
            "ticks": ""
           }
          },
          "title": {
           "x": 0.05
          },
          "xaxis": {
           "automargin": true,
           "gridcolor": "white",
           "linecolor": "white",
           "ticks": "",
           "title": {
            "standoff": 15
           },
           "zerolinecolor": "white",
           "zerolinewidth": 2
          },
          "yaxis": {
           "automargin": true,
           "gridcolor": "white",
           "linecolor": "white",
           "ticks": "",
           "title": {
            "standoff": 15
           },
           "zerolinecolor": "white",
           "zerolinewidth": 2
          }
         }
        },
        "title": {
         "text": "Cluster Analysis Dashboard"
        },
        "xaxis": {
         "anchor": "y",
         "domain": [
          0,
          0.45
         ],
         "title": {
          "text": "Cluster"
         }
        },
        "xaxis2": {
         "anchor": "y2",
         "domain": [
          0.55,
          1
         ],
         "title": {
          "text": "Cluster"
         }
        },
        "xaxis3": {
         "anchor": "y3",
         "domain": [
          0,
          0.45
         ],
         "title": {
          "text": "Cluster"
         }
        },
        "xaxis4": {
         "anchor": "y4",
         "domain": [
          0.55,
          1
         ],
         "title": {
          "text": "Cluster"
         }
        },
        "yaxis": {
         "anchor": "x",
         "domain": [
          0.575,
          1
         ],
         "title": {
          "text": "Count"
         }
        },
        "yaxis2": {
         "anchor": "x2",
         "domain": [
          0.575,
          1
         ],
         "title": {
          "text": "Average Spend"
         }
        },
        "yaxis3": {
         "anchor": "x3",
         "domain": [
          0,
          0.425
         ],
         "title": {
          "text": "Transaction Count"
         }
        },
        "yaxis4": {
         "anchor": "x4",
         "domain": [
          0,
          0.425
         ],
         "title": {
          "text": "Total Spend"
         }
        }
       }
      }
     },
     "metadata": {},
     "output_type": "display_data"
    },
    {
     "name": "stdout",
     "output_type": "stream",
     "text": [
      "\n",
      "Cluster Summaries:\n",
      "=================\n",
      "\n",
      "Cluster 0:\n",
      "Size: 71 customers\n",
      "Average values:\n",
      "CustomerAge: 0.04\n",
      "Total_Spend: 1.09\n",
      "Avg_Transaction_Value: 0.60\n",
      "Std_Transaction_Value: 0.45\n",
      "Total_Quantity: 1.03\n",
      "Avg_Quantity: 0.53\n",
      "Std_Quantity: 0.21\n",
      "Transaction_Count: 0.83\n",
      "Books: 0.57\n",
      "Clothing: 0.57\n",
      "Electronics: 0.53\n",
      "Home Decor: 0.48\n",
      "\n",
      "Cluster 1:\n",
      "Size: 129 customers\n",
      "Average values:\n",
      "CustomerAge: -0.02\n",
      "Total_Spend: -0.60\n",
      "Avg_Transaction_Value: -0.33\n",
      "Std_Transaction_Value: -0.25\n",
      "Total_Quantity: -0.56\n",
      "Avg_Quantity: -0.29\n",
      "Std_Quantity: -0.11\n",
      "Transaction_Count: -0.46\n",
      "Books: -0.31\n",
      "Clothing: -0.31\n",
      "Electronics: -0.29\n",
      "Home Decor: -0.27\n",
      "\n",
      "Final Davies-Bouldin Score: 1.043\n",
      "Optimal number of clusters: 2\n"
     ]
    }
   ],
   "source": [
    "# Part 5: Advanced Customer Segmentation\n",
    "\n",
    "class CustomerSegmentation:\n",
    "    def __init__(self, customer_features):\n",
    "        self.customer_features = customer_features\n",
    "        self.optimal_k = None\n",
    "        self.final_clusters = None\n",
    "        self.cluster_model = None\n",
    "        \n",
    "    def prepare_features(self):\n",
    "        \"\"\"\n",
    "        Prepare and scale features for clustering\n",
    "        \"\"\"\n",
    "        clustering_features = [\n",
    "            'Total_Spend', 'Avg_Transaction_Value', 'Transaction_Count',\n",
    "            'Total_Quantity', 'Avg_Quantity'\n",
    "        ]\n",
    "        X = self.customer_features[clustering_features]\n",
    "        return StandardScaler().fit_transform(X)\n",
    "    \n",
    "    def find_optimal_clusters(self, max_k=10):\n",
    "        \"\"\"\n",
    "        Find optimal number of clusters using multiple metrics\n",
    "        \"\"\"\n",
    "        X = self.prepare_features()\n",
    "        \n",
    "        metrics = {\n",
    "            'inertia': [],\n",
    "            'silhouette': [],\n",
    "            'davies_bouldin': []\n",
    "        }\n",
    "        \n",
    "        for k in range(2, max_k + 1):\n",
    "            kmeans = KMeans(n_clusters=k, random_state=42)\n",
    "            labels = kmeans.fit_predict(X)\n",
    "            \n",
    "            metrics['inertia'].append(kmeans.inertia_)\n",
    "            metrics['silhouette'].append(silhouette_score(X, labels))\n",
    "            metrics['davies_bouldin'].append(davies_bouldin_score(X, labels))\n",
    "        \n",
    "        # Plot metrics\n",
    "        fig, axes = plt.subplots(1, 3, figsize=(15, 5))\n",
    "        \n",
    "        axes[0].plot(range(2, max_k + 1), metrics['inertia'])\n",
    "        axes[0].set_title('Elbow Method')\n",
    "        \n",
    "        axes[1].plot(range(2, max_k + 1), metrics['silhouette'])\n",
    "        axes[1].set_title('Silhouette Score')\n",
    "        \n",
    "        axes[2].plot(range(2, max_k + 1), metrics['davies_bouldin'])\n",
    "        axes[2].set_title('Davies-Bouldin Score')\n",
    "        \n",
    "        plt.tight_layout()\n",
    "        plt.show()\n",
    "        \n",
    "        # Select optimal k (you can modify this logic)\n",
    "        self.optimal_k = np.argmin(metrics['davies_bouldin']) + 2\n",
    "        return self.optimal_k\n",
    "    \n",
    "    def perform_clustering(self):\n",
    "        \"\"\"\n",
    "        Perform final clustering with optimal k\n",
    "        \"\"\"\n",
    "        X = self.prepare_features()\n",
    "        self.cluster_model = KMeans(n_clusters=self.optimal_k, random_state=42)\n",
    "        self.final_clusters = self.cluster_model.fit_predict(X)\n",
    "        \n",
    "        # Add cluster labels to customer features\n",
    "        self.customer_features['Cluster'] = self.final_clusters\n",
    "        \n",
    "        return self.final_clusters\n",
    "    \n",
    "    def analyze_clusters(self):\n",
    "        \"\"\"\n",
    "        Analyze and visualize cluster characteristics\n",
    "        \"\"\"\n",
    "        # Cluster sizes\n",
    "        cluster_sizes = self.customer_features['Cluster'].value_counts()\n",
    "        \n",
    "        # Select only numeric columns for analysis\n",
    "        numeric_columns = self.customer_features.select_dtypes(include=[np.number]).columns\n",
    "        numeric_columns = [col for col in numeric_columns if col != 'Cluster']\n",
    "        \n",
    "        # Cluster characteristics\n",
    "        cluster_means = self.customer_features.groupby('Cluster')[numeric_columns].mean()\n",
    "        \n",
    "        # Visualizations\n",
    "        fig = make_subplots(rows=2, cols=2)\n",
    "        \n",
    "        # Cluster sizes\n",
    "        fig.add_trace(\n",
    "            go.Bar(x=cluster_sizes.index.astype(str), \n",
    "                  y=cluster_sizes.values, \n",
    "                  name='Cluster Sizes'),\n",
    "            row=1, col=1\n",
    "        )\n",
    "        \n",
    "        # Average spending by cluster\n",
    "        if 'Total_Spend' in numeric_columns:\n",
    "            fig.add_trace(\n",
    "                go.Bar(x=cluster_means.index.astype(str), \n",
    "                      y=cluster_means['Total_Spend'],\n",
    "                      name='Avg Spending'),\n",
    "                row=1, col=2\n",
    "            )\n",
    "        \n",
    "        # Transaction frequency by cluster\n",
    "        if 'Transaction_Count' in numeric_columns:\n",
    "            fig.add_trace(\n",
    "                go.Bar(x=cluster_means.index.astype(str),\n",
    "                      y=cluster_means['Transaction_Count'],\n",
    "                      name='Transaction Frequency'),\n",
    "                row=2, col=1\n",
    "            )\n",
    "        \n",
    "        # Customer value distribution by cluster\n",
    "        if 'Total_Spend' in numeric_columns:\n",
    "            fig.add_trace(\n",
    "                go.Box(y=self.customer_features['Total_Spend'],\n",
    "                      x=self.customer_features['Cluster'].astype(str),\n",
    "                      name='Customer Value Distribution'),\n",
    "                row=2, col=2\n",
    "            )\n",
    "        \n",
    "        fig.update_layout(\n",
    "            height=800, \n",
    "            title_text=\"Cluster Analysis Dashboard\",\n",
    "            showlegend=True\n",
    "        )\n",
    "        \n",
    "        fig.update_xaxes(title_text=\"Cluster\", row=1, col=1)\n",
    "        fig.update_xaxes(title_text=\"Cluster\", row=1, col=2)\n",
    "        fig.update_xaxes(title_text=\"Cluster\", row=2, col=1)\n",
    "        fig.update_xaxes(title_text=\"Cluster\", row=2, col=2)\n",
    "        \n",
    "        fig.update_yaxes(title_text=\"Count\", row=1, col=1)\n",
    "        fig.update_yaxes(title_text=\"Average Spend\", row=1, col=2)\n",
    "        fig.update_yaxes(title_text=\"Transaction Count\", row=2, col=1)\n",
    "        fig.update_yaxes(title_text=\"Total Spend\", row=2, col=2)\n",
    "        \n",
    "        fig.show()\n",
    "        \n",
    "        # Print cluster summaries\n",
    "        print(\"\\nCluster Summaries:\")\n",
    "        print(\"=================\")\n",
    "        for cluster in sorted(cluster_means.index):\n",
    "            print(f\"\\nCluster {cluster}:\")\n",
    "            print(f\"Size: {cluster_sizes[cluster]} customers\")\n",
    "            print(\"Average values:\")\n",
    "            for col in numeric_columns:\n",
    "                print(f\"{col}: {cluster_means.loc[cluster, col]:.2f}\")\n",
    "        \n",
    "        return cluster_means\n",
    "\n",
    "# Perform customer segmentation\n",
    "segmentation = CustomerSegmentation(lookalike_model.customer_features)\n",
    "optimal_k = segmentation.find_optimal_clusters()\n",
    "clusters = segmentation.perform_clustering()\n",
    "cluster_analysis = segmentation.analyze_clusters()\n",
    "\n",
    "# Calculate final Davies-Bouldin score\n",
    "final_db_score = davies_bouldin_score(\n",
    "    segmentation.prepare_features(),\n",
    "    segmentation.final_clusters\n",
    ")\n",
    "\n",
    "print(f\"\\nFinal Davies-Bouldin Score: {final_db_score:.3f}\")\n",
    "print(f\"Optimal number of clusters: {optimal_k}\")"
   ]
  },
  {
   "cell_type": "code",
   "execution_count": 13,
   "metadata": {},
   "outputs": [
    {
     "data": {
      "image/png": "[encoded data removed]",
      "text/plain": [
       "<Figure size 1200x500 with 2 Axes>"
      ]
     },
     "metadata": {},
     "output_type": "display_data"
    },
    {
     "data": {
      "image/png": "[encoded data removed]",
      "text/plain": [
       "<Figure size 1000x600 with 1 Axes>"
      ]
     },
     "metadata": {},
     "output_type": "display_data"
    },
    {
     "name": "stdout",
     "output_type": "stream",
     "text": [
      "Final Davies-Bouldin Index: 1.2893322309488089\n",
      "\n",
      "Cluster Analysis:\n",
      "         Total_Spend  Avg_Transaction_Value  Total_Quantity  Avg_Quantity  \\\n",
      "Cluster                                                                     \n",
      "0        5989.599250             746.877024       21.600000      2.672772   \n",
      "1        1904.363478             419.653046        8.065217      1.827553   \n",
      "2        2543.816711             688.809866        9.921053      2.651974   \n",
      "3        4580.562162             954.048252       14.810811      3.002703   \n",
      "\n",
      "         Transaction_Count  \n",
      "Cluster                     \n",
      "0                 8.100000  \n",
      "1                 4.391304  \n",
      "2                 3.815789  \n",
      "3                 4.972973  \n"
     ]
    }
   ],
   "source": [
    "# Prepare features for clustering\n",
    "clustering_features = ['Total_Spend', 'Avg_Transaction_Value', 'Total_Quantity', \n",
    "                      'Avg_Quantity', 'Transaction_Count']\n",
    "X = customer_features[clustering_features]\n",
    "\n",
    "# Scale the features\n",
    "X_scaled = StandardScaler().fit_transform(X)\n",
    "\n",
    "# Find optimal number of clusters using elbow method\n",
    "inertias = []\n",
    "db_scores = []\n",
    "k_range = range(2, 11)\n",
    "\n",
    "for k in k_range:\n",
    "    kmeans = KMeans(n_clusters=k, random_state=42)\n",
    "    kmeans.fit(X_scaled)\n",
    "    inertias.append(kmeans.inertia_)\n",
    "    db_scores.append(davies_bouldin_score(X_scaled, kmeans.labels_))\n",
    "\n",
    "# Plot elbow curve\n",
    "plt.figure(figsize=(12, 5))\n",
    "plt.subplot(1, 2, 1)\n",
    "plt.plot(k_range, inertias, 'bx-')\n",
    "plt.xlabel('k')\n",
    "plt.ylabel('Inertia')\n",
    "plt.title('Elbow Method for Optimal k')\n",
    "\n",
    "plt.subplot(1, 2, 2)\n",
    "plt.plot(k_range, db_scores, 'rx-')\n",
    "plt.xlabel('k')\n",
    "plt.ylabel('Davies-Bouldin Score')\n",
    "plt.title('Davies-Bouldin Score vs. k')\n",
    "plt.tight_layout()\n",
    "plt.show()\n",
    "\n",
    "# Perform final clustering with optimal k (let's say k=4 for this example)\n",
    "optimal_k = 4\n",
    "final_kmeans = KMeans(n_clusters=optimal_k, random_state=42)\n",
    "customer_features['Cluster'] = final_kmeans.fit_predict(X_scaled)\n",
    "\n",
    "# Visualize clusters\n",
    "plt.figure(figsize=(10, 6))\n",
    "sns.scatterplot(data=customer_features, x='Total_Spend', y='Transaction_Count', \n",
    "                hue='Cluster', palette='deep')\n",
    "plt.title('Customer Segments')\n",
    "plt.show()\n",
    "\n",
    "# Calculate final Davies-Bouldin Index\n",
    "final_db_score = davies_bouldin_score(X_scaled, customer_features['Cluster'])\n",
    "print(f\"Final Davies-Bouldin Index: {final_db_score}\")\n",
    "\n",
    "# Analyze clusters\n",
    "cluster_analysis = customer_features.groupby('Cluster')[clustering_features].mean()\n",
    "print(\"\\nCluster Analysis:\")\n",
    "print(cluster_analysis)"
   ]
  },
  {
   "cell_type": "code",
   "execution_count": null,
   "metadata": {},
   "outputs": [],
   "source": []
  }
 ],
 "metadata": {
  "kernelspec": {
   "display_name": "Python 3",
   "language": "python",
   "name": "python3"
  },
  "language_info": {
   "codemirror_mode": {
    "name": "ipython",
    "version": 3
   },
   "file_extension": ".py",
   "mimetype": "text/x-python",
   "name": "python",
   "nbconvert_exporter": "python",
   "pygments_lexer": "ipython3",
   "version": "3.12.7"
  }
 },
 "nbformat": 4,
 "nbformat_minor": 2
}
